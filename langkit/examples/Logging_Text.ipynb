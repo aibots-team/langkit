{
 "cells": [
  {
   "attachments": {},
   "cell_type": "markdown",
   "metadata": {},
   "source": [
    "[![Open in Colab](https://colab.research.google.com/assets/colab-badge.svg)](https://colab.research.google.com/github/whylabs/LanguageToolkit/blob/main/langkit/examples/Logging_Text.ipynb)"
   ]
  },
  {
   "cell_type": "code",
   "execution_count": null,
   "metadata": {},
   "outputs": [],
   "source": [
    "%pip install langkit"
   ]
  },
  {
   "cell_type": "code",
   "execution_count": null,
   "metadata": {},
   "outputs": [],
   "source": [
    "import whylogs as why\n",
    "from langkit import all_metrics\n",
    "\n",
    "all_metrics_schema = all_metrics.init()\n",
    "print(\"Done initializing metrics! Now to profile the prompts and responses\")\n",
    "results = why.log({\"prompt\": \"Hello,\", \"response\": \"World!\"}, schema=all_metrics_schema)\n",
    "print(\"Done profiling! Let's look at what is inside the returned results\")"
   ]
  },
  {
   "cell_type": "code",
   "execution_count": 12,
   "metadata": {},
   "outputs": [
    {
     "name": "stdout",
     "output_type": "stream",
     "text": [
      "prompt\n",
      "response\n",
      "response.relevance_to_prompt\n"
     ]
    }
   ],
   "source": [
    "view = results.view()\n",
    "for col_name in view.get_columns():\n",
    "    print(col_name)"
   ]
  },
  {
   "cell_type": "code",
   "execution_count": 17,
   "metadata": {},
   "outputs": [
    {
     "data": {
      "text/plain": [
       "{'counts/n': 1,\n",
       " 'counts/null': 0,\n",
       " 'counts/nan': 0,\n",
       " 'counts/inf': 0,\n",
       " 'types/integral': 0,\n",
       " 'types/fractional': 1,\n",
       " 'types/boolean': 0,\n",
       " 'types/string': 0,\n",
       " 'types/object': 0,\n",
       " 'types/tensor': 0,\n",
       " 'distribution/mean': 0.30154120922088623,\n",
       " 'distribution/stddev': 0.0,\n",
       " 'distribution/n': 1,\n",
       " 'distribution/max': 0.30154120922088623,\n",
       " 'distribution/min': 0.30154120922088623,\n",
       " 'distribution/q_01': 0.30154120922088623,\n",
       " 'distribution/q_05': 0.30154120922088623,\n",
       " 'distribution/q_10': 0.30154120922088623,\n",
       " 'distribution/q_25': 0.30154120922088623,\n",
       " 'distribution/median': 0.30154120922088623,\n",
       " 'distribution/q_75': 0.30154120922088623,\n",
       " 'distribution/q_90': 0.30154120922088623,\n",
       " 'distribution/q_95': 0.30154120922088623,\n",
       " 'distribution/q_99': 0.30154120922088623,\n",
       " 'cardinality/est': 1.0,\n",
       " 'cardinality/upper_1': 1.000049929250618,\n",
       " 'cardinality/lower_1': 1.0}"
      ]
     },
     "execution_count": 17,
     "metadata": {},
     "output_type": "execute_result"
    }
   ],
   "source": [
    "view.get_column(\"response.relevance_to_prompt\").to_summary_dict()"
   ]
  }
 ],
 "metadata": {
  "kernelspec": {
   "display_name": "whylabs-textmetricstoolkit-EeFODeF5-py3.8",
   "language": "python",
   "name": "python3"
  },
  "language_info": {
   "codemirror_mode": {
    "name": "ipython",
    "version": 3
   },
   "file_extension": ".py",
   "mimetype": "text/x-python",
   "name": "python",
   "nbconvert_exporter": "python",
   "pygments_lexer": "ipython3",
   "version": "3.8.10"
  },
  "orig_nbformat": 4
 },
 "nbformat": 4,
 "nbformat_minor": 2
}
